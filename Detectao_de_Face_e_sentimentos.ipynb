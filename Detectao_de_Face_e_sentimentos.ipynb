{
 "cells": [
  {
   "cell_type": "code",
   "execution_count": 5,
   "id": "61d3fbba-3fd2-44bf-91a3-01c44aae8d9b",
   "metadata": {},
   "outputs": [],
   "source": [
    "#Importação de bibliotecas\n",
    "import pandas as pd\n",
    "import cv2\n",
    "from deepface import DeepFace\n",
    "from IPython.display import Image, display\n"
   ]
  },
  {
   "cell_type": "code",
   "execution_count": 6,
   "id": "77df4744-ec6f-40db-b07b-3b39abb10e4c",
   "metadata": {},
   "outputs": [
    {
     "data": {
      "image/jpeg": "[encoded data removed]",
      "text/plain": [
       "<IPython.core.display.Image object>"
      ]
     },
     "metadata": {},
     "output_type": "display_data"
    }
   ],
   "source": [
    "#Imagem que vamos usar\n",
    "display(Image(filename = 'C://Users/Dell/Desktop/imagem1.jpeg'))"
   ]
  },
  {
   "cell_type": "code",
   "execution_count": 7,
   "id": "ca221420-baa1-49c2-b05e-a21418a249ae",
   "metadata": {},
   "outputs": [
    {
     "data": {
      "text/plain": [
       "numpy.ndarray"
      ]
     },
     "execution_count": 7,
     "metadata": {},
     "output_type": "execute_result"
    }
   ],
   "source": [
    "#Carregando a imagem para ser lida pelo DeepFace\n",
    "img = cv2.imread('C://Users/Dell/Desktop/imagem1.jpeg')\n",
    "type(img)"
   ]
  },
  {
   "cell_type": "code",
   "execution_count": 11,
   "id": "f48ac8a6-978f-4761-8164-82bf6e728fb2",
   "metadata": {},
   "outputs": [
    {
     "name": "stderr",
     "output_type": "stream",
     "text": [
      "Action: emotion: 100%|███████████████████████████████████████████████████████████████████| 4/4 [00:05<00:00,  1.45s/it]"
     ]
    },
    {
     "name": "stdout",
     "output_type": "stream",
     "text": [
      "[{'age': 29, 'region': {'x': 81, 'y': 38, 'w': 101, 'h': 101, 'left_eye': (148, 84), 'right_eye': (112, 70)}, 'face_confidence': 0.93, 'gender': {'Woman': 99.99997615814209, 'Man': 2.2041676572825963e-05}, 'dominant_gender': 'Woman', 'race': {'asian': 0.002964839051303548, 'indian': 0.025863130404166233, 'black': 0.0002484830860619922, 'white': 81.6955647831482, 'middle eastern': 12.198700791752245, 'latino hispanic': 6.076652204793429}, 'dominant_race': 'white', 'emotion': {'angry': 2.6236697401503324e-11, 'disgust': 4.839107465440657e-18, 'fear': 2.157600063423201e-07, 'happy': 99.99696016347883, 'sad': 1.5046007783511523e-09, 'surprise': 4.1327906832810725e-06, 'neutral': 0.0030292872933798715}, 'dominant_emotion': 'happy'}]\n"
     ]
    },
    {
     "name": "stderr",
     "output_type": "stream",
     "text": [
      "\n"
     ]
    }
   ],
   "source": [
    "#Passando uma imagem para o DeepFace analisar, essa imagem precisa estar no formato do OpenCv, \n",
    "#Deepface possui um módulo de análise de atributos faciais que prevê idade, gênero, raça e emoção esse módulo é chamado de actions\n",
    "resultado = DeepFace.analyze(img_path = img, actions= ('age','gender','race','emotion'))\n",
    "print(resultado)\n",
    "\n"
   ]
  },
  {
   "cell_type": "markdown",
   "id": "8dea5b82-1c47-4d65-9810-a66a7ab7ed57",
   "metadata": {},
   "source": [
    "A análise da imagem revela os seguintes resultados: a idade estimada é de aproximadamente 29 anos, o gênero identificado é feminino, a raça é classificada como branca, e a emoção expressa na fotografia é de felicidade."
   ]
  },
  {
   "cell_type": "code",
   "execution_count": 13,
   "id": "f0a06325-1d4c-4576-a631-827714d54d9c",
   "metadata": {},
   "outputs": [
    {
     "data": {
      "image/jpeg": "[encoded data removed]",
      "text/plain": [
       "<IPython.core.display.Image object>"
      ]
     },
     "metadata": {},
     "output_type": "display_data"
    }
   ],
   "source": [
    "#Vamos realizar agora o teste com uma segunda imagem\n",
    "#Imagem que iremos usar:\n",
    "display(Image(filename = 'C://Users/Dell/Desktop/imagem2.jpeg'))"
   ]
  },
  {
   "cell_type": "code",
   "execution_count": 14,
   "id": "97f00fb0-523d-4a84-8a29-93fc76df02a5",
   "metadata": {},
   "outputs": [
    {
     "data": {
      "text/plain": [
       "numpy.ndarray"
      ]
     },
     "execution_count": 14,
     "metadata": {},
     "output_type": "execute_result"
    }
   ],
   "source": [
    "#Carregando a imagem para ser lida pelo DeepFace\n",
    "img2 = cv2.imread('C://Users/Dell/Desktop/imagem2.jpeg')\n",
    "type(img)"
   ]
  },
  {
   "cell_type": "code",
   "execution_count": 15,
   "id": "260633df-2438-4903-9a1a-cee823a290cf",
   "metadata": {},
   "outputs": [
    {
     "name": "stderr",
     "output_type": "stream",
     "text": [
      "Action: emotion: 100%|███████████████████████████████████████████████████████████████████| 4/4 [02:58<00:00, 44.54s/it]"
     ]
    },
    {
     "name": "stdout",
     "output_type": "stream",
     "text": [
      "[{'age': 24, 'region': {'x': 91, 'y': 45, 'w': 90, 'h': 90, 'left_eye': None, 'right_eye': None}, 'face_confidence': 0.9, 'gender': {'Woman': 0.005049892206443474, 'Man': 99.99494552612305}, 'dominant_gender': 'Man', 'race': {'asian': 67.51861378661476, 'indian': 2.621274783985304, 'black': 0.7239197346669277, 'white': 14.651861170045207, 'middle eastern': 1.6954735932036396, 'latino hispanic': 12.788858281901973}, 'dominant_race': 'asian', 'emotion': {'angry': 0.1339732393170012, 'disgust': 1.431257941408691e-07, 'fear': 0.0004354570527755397, 'happy': 98.81041660184663, 'sad': 0.005448861780502546, 'surprise': 0.0017490557827366143, 'neutral': 1.047978052737945}, 'dominant_emotion': 'happy'}]\n"
     ]
    },
    {
     "name": "stderr",
     "output_type": "stream",
     "text": [
      "\n"
     ]
    }
   ],
   "source": [
    "#Passando uma imagem para o DeepFace analisar:\n",
    "resultado = DeepFace.analyze(img_path = img2, actions= ('age','gender','race','emotion'))\n",
    "print(resultado)\n"
   ]
  },
  {
   "cell_type": "code",
   "execution_count": null,
   "id": "68483926-7c0c-430f-9708-fefe7f28818a",
   "metadata": {},
   "outputs": [],
   "source": [
    "A análise da imagem revela os seguintes resultados: a idade estimada é de aproximadamente 24 anos, o gênero identificado é masculino,\n",
    "a raça é classificada como asiatica, e a emoção expressa na fotografia é de raiva."
   ]
  }
 ],
 "metadata": {
  "kernelspec": {
   "display_name": "Python 3 (ipykernel)",
   "language": "python",
   "name": "python3"
  },
  "language_info": {
   "codemirror_mode": {
    "name": "ipython",
    "version": 3
   },
   "file_extension": ".py",
   "mimetype": "text/x-python",
   "name": "python",
   "nbconvert_exporter": "python",
   "pygments_lexer": "ipython3",
   "version": "3.11.7"
  }
 },
 "nbformat": 4,
 "nbformat_minor": 5
}
